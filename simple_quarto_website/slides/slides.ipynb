{
 "cells": [
  {
   "cell_type": "markdown",
   "metadata": {},
   "source": [
    "---\n",
    "title: \"Testing\"\n",
    "bibliography: ../reference.bib\n",
    "format: revealjs\n",
    "code-fold: true\n",
    "---\n",
    "\n",
    "## Animal\n",
    "\n",
    "- Here are my pets\n",
    "\n",
    "![Cat](images/cat.png){width=300}\n",
    "![Dog](images/dog.png){width=300}\n"
   ]
  },
  {
   "cell_type": "markdown",
   "metadata": {},
   "source": [
    "## Plot\n",
    "```{python}\n",
    "import matplotlib.pyplot as plt\n",
    "\n",
    "plt.plot([1,1,1,1,1,1,1,1,1,10], [1,1,8,1,1,1,3,2,1,10])\n",
    "plt.show()"
   ]
  },
  {
   "cell_type": "code",
   "execution_count": 3,
   "metadata": {},
   "outputs": [
    {
     "data": {
      "image/png": "[encoded data removed]",
      "text/plain": [
       "<Figure size 432x288 with 1 Axes>"
      ]
     },
     "metadata": {
      "needs_background": "light"
     },
     "output_type": "display_data"
    }
   ],
   "source": [
    "import matplotlib.pyplot as plt\n",
    "\n",
    "plt.plot([1,1,1,1,1,1,1,1,1,10], [1,1,8,1,1,1,3,2,1,10])\n",
    "plt.show()\n"
   ]
  },
  {
   "cell_type": "markdown",
   "metadata": {},
   "source": [
    "## Reference\n",
    "- Child Development [@brownell2016prosocial, pp. 223]"
   ]
  }
 ],
 "metadata": {
  "kernelspec": {
   "display_name": "Python 3",
   "language": "python",
   "name": "python3"
  },
  "language_info": {
   "codemirror_mode": {
    "name": "ipython",
    "version": 3
   },
   "file_extension": ".py",
   "mimetype": "text/x-python",
   "name": "python",
   "nbconvert_exporter": "python",
   "pygments_lexer": "ipython3",
   "version": "3.7.4"
  }
 },
 "nbformat": 4,
 "nbformat_minor": 2
}
